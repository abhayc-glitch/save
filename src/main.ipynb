{
 "cells": [
  {
   "cell_type": "code",
   "execution_count": 3,
   "metadata": {},
   "outputs": [
    {
     "name": "stdout",
     "output_type": "stream",
     "text": [
      "2.10.0\n"
     ]
    }
   ],
   "source": [
    "import matplotlib.pyplot as plt\n",
    "import numpy as np\n",
    "import os\n",
    "import PIL\n",
    "import pandas as pd\n",
    "import tensorflow as tf\n",
    "\n",
    "from sklearn.model_selection import train_test_split\n",
    "from tensorflow.keras.preprocessing.text import text_to_word_sequence\n",
    "from tensorflow.keras.preprocessing.sequence import pad_sequences\n",
    "from tensorflow.keras.models import Sequential\n",
    "from tensorflow.keras.layers import Embedding, LSTM, Dense, Activation\n",
    "\n",
    "\n",
    "print(tf.__version__)\n"
   ]
  },
  {
   "cell_type": "code",
   "execution_count": 2,
   "metadata": {},
   "outputs": [
    {
     "ename": "NameError",
     "evalue": "name 'pd' is not defined",
     "output_type": "error",
     "traceback": [
      "\u001b[1;31m---------------------------------------------------------------------------\u001b[0m",
      "\u001b[1;31mNameError\u001b[0m                                 Traceback (most recent call last)",
      "Cell \u001b[1;32mIn[2], line 3\u001b[0m\n\u001b[0;32m      1\u001b[0m \u001b[38;5;66;03m# Pandas dataframe to open the the CSV file and get the Descriptions data\u001b[39;00m\n\u001b[0;32m      2\u001b[0m \u001b[38;5;66;03m# Load the data from the file\u001b[39;00m\n\u001b[1;32m----> 3\u001b[0m df \u001b[38;5;241m=\u001b[39m \u001b[43mpd\u001b[49m\u001b[38;5;241m.\u001b[39mread_csv(\u001b[38;5;124m'\u001b[39m\u001b[38;5;124myoutube.csv\u001b[39m\u001b[38;5;124m'\u001b[39m)\n\u001b[0;32m      4\u001b[0m descriptions \u001b[38;5;241m=\u001b[39m df[\u001b[38;5;124m'\u001b[39m\u001b[38;5;124mdescription\u001b[39m\u001b[38;5;124m'\u001b[39m]\u001b[38;5;241m.\u001b[39mvalues\n\u001b[0;32m      5\u001b[0m coupon_codes \u001b[38;5;241m=\u001b[39m df[\u001b[38;5;124m'\u001b[39m\u001b[38;5;124mcoupon_code\u001b[39m\u001b[38;5;124m'\u001b[39m]\u001b[38;5;241m.\u001b[39mvalues\n",
      "\u001b[1;31mNameError\u001b[0m: name 'pd' is not defined"
     ]
    }
   ],
   "source": [
    "# Pandas dataframe to open the the CSV file and get the Descriptions data\n",
    "# Load the data from the file\n",
    "df = pd.read_csv('youtube.csv')\n",
    "descriptions = df['description'].values\n",
    "coupon_codes = df['coupon_code'].values\n",
    "\n",
    "# Convert coupon codes into binary label\n",
    "df[\"has_coupon_code\"] = np.where(df[\"description\"].str.contains(\"coupon|code\"), 1, 0)\n",
    "\n",
    "df.head()"
   ]
  },
  {
   "cell_type": "code",
   "execution_count": null,
   "metadata": {},
   "outputs": [],
   "source": [
    "# Split the data into train and test sets\n",
    "train_df, test_df = train_test_split(df, test_size=0.2, random_state=42)"
   ]
  },
  {
   "cell_type": "code",
   "execution_count": null,
   "metadata": {},
   "outputs": [],
   "source": [
    "vectorizer = TextVectorization(\n",
    "    output_mode='int',\n",
    "    max_tokens=1000,\n",
    "    output_sequence_length=100)\n",
    "text_ds = tf.data.Dataset.from_tensor_slices(train_df['descriptions']).batch(128)\n",
    "vectorizer.adapt(text_ds)"
   ]
  },
  {
   "cell_type": "code",
   "execution_count": null,
   "metadata": {},
   "outputs": [],
   "source": [
    "#Tokenization -> Text Vectorization (preprocessing layer that maps text feuatures to integer sequences)\n",
    "\n",
    "# Make the output integer data type\n",
    "#Max_tokens parameter is a parameter that sets the maximum number of tokens/unique words in the vocabulary after the model gets preprocessed\n",
    "# Setting it to vocab size means you lose no vocbuary\n",
    "vectorizer = TextVectorization(\n",
    "    max_tokens=10000,\n",
    "    output_mode=\"int\",\n",
    "    output_sequence_length=100\n",
    ")\n",
    "text_ds = tf.data.Dataset.from_tensor_slices(train_df[\"description\"].values).batch(32)\n",
    "vectorizer.adapt(text_ds)\n",
    "\n",
    "#Vectorize the descriptions\n",
    "train_text = vectorizer(train_df[\"description\"])\n",
    "test_text = vectorizer(test_df[\"description\"])"
   ]
  },
  {
   "cell_type": "code",
   "execution_count": null,
   "metadata": {},
   "outputs": [],
   "source": [
    "#Padding -> Adds 0's to the shorter sequences so all the input sequences stay the same\n",
    "# Framworks like tensorflow expect all inputs to be the same\n",
    "# Post padding is always nessecary and important because when it applies before \n",
    "# the data, the model will take a while to learn and make it inefficient\n",
    "train_desc_padded = tf.keras.preprocessing.sequence.pad_sequences(train_desc, padding='post', maxlen=100)\n",
    "test_desc_padded = tf.keras.preprocessing.sequence.pad_sequences(test_desc, padding='post', maxlen=100)"
   ]
  },
  {
   "cell_type": "markdown",
   "metadata": {},
   "source": [
    "### RNN Architecture\n",
    "- RNN - Reccurent Neural Network - makes predictions based on multiple inputs based on the problem \n",
    "- Sequential in terms of a network means -> input to output\n",
    "- RNNs have feedback loops which set the network apart\n",
    "    - Feedback oops -> (weightOfLayer * CurrentValue) + (y1*weigthOfFeedback)"
   ]
  },
  {
   "cell_type": "code",
   "execution_count": 1,
   "metadata": {},
   "outputs": [
    {
     "ename": "NameError",
     "evalue": "name 'Sequential' is not defined",
     "output_type": "error",
     "traceback": [
      "\u001b[1;31m---------------------------------------------------------------------------\u001b[0m",
      "\u001b[1;31mNameError\u001b[0m                                 Traceback (most recent call last)",
      "Cell \u001b[1;32mIn[1], line 2\u001b[0m\n\u001b[0;32m      1\u001b[0m \u001b[38;5;66;03m#Build the Model\u001b[39;00m\n\u001b[1;32m----> 2\u001b[0m model \u001b[38;5;241m=\u001b[39m \u001b[43mSequential\u001b[49m()\n\u001b[0;32m      3\u001b[0m model\u001b[38;5;241m.\u001b[39madd(tf\u001b[38;5;241m.\u001b[39mkeras\u001b[38;5;241m.\u001b[39mlayers\u001b[38;5;241m.\u001b[39mEmbedding(vocab_size, embedding_dim, input_length\u001b[38;5;241m=\u001b[39mmax_length))\n\u001b[0;32m      4\u001b[0m \u001b[38;5;66;03m#Gated reccurent unit layer -> reccurent layer - return sequences is the feedback loop\u001b[39;00m\n",
      "\u001b[1;31mNameError\u001b[0m: name 'Sequential' is not defined"
     ]
    }
   ],
   "source": [
    "#Build the Model\n",
    "model = tf.keras.Sequential([\n",
    "    # Mask_Zero=true removes all the assigned paddign tokens because the layer will learn to ignore the sequences that I padded\n",
    "    tf.keras.layers.Embedding(input_dim=len(vectorizer.get_vocabulary()), output_dim=128, mask_zero=True),\n",
    "    tf.keras.layers.GRU(128, return_sequences=True),\n",
    "    tf.keras.layers.GRU(128),\n",
    "    tf.keras.layers.Dense(64, activation='relu'),\n",
    "    tf.keras.layers.Dense(1, activation='sigmoid')\n",
    "])\n",
    "\n",
    "model.summary()"
   ]
  },
  {
   "cell_type": "markdown",
   "metadata": {},
   "source": [
    "### Flow of future data collection and traning\n",
    "- Since there is no way to constantly labelize the data, Once the data is collected, the model will be manually labelized\n",
    "- The model will have around 500 descriptions (video) -> maybe go up to a 1000\n",
    "- From there we can make a NEW YOUTUBE API CALL -> this one is SPECIFICALLY FOR DATE relevant collection -> every week run\n",
    "- Data from this new call will be run through the model and the codes will be recognized\n",
    "- Then run the function to figure out all other information about the code(site, discount, creator) etc.\n",
    "- Send all this info to client side in the form of a CSV file\n",
    "- The entire process should be loop like"
   ]
  },
  {
   "cell_type": "code",
   "execution_count": null,
   "metadata": {},
   "outputs": [],
   "source": [
    "#Compile and train\n",
    "model.compile(loss='binary_crossentropy', optimizer='adam', metrics=['accuracy'])"
   ]
  },
  {
   "cell_type": "code",
   "execution_count": null,
   "metadata": {},
   "outputs": [],
   "source": [
    "# Train and Evaluate the model\n",
    "history = model.fit(train_data, train_labels, epochs=10, batch_size=batch_size, validation_data=(test_data, test_labels))\n",
    "\n",
    "# Evaluate the model\n",
    "test_loss, test_acc = model.evaluate(test_data, test_labels)\n",
    "print('Test Loss: {}'.format(test_loss))\n",
    "print('Test Accuracy: {}'.format(test_acc))"
   ]
  },
  {
   "cell_type": "code",
   "execution_count": null,
   "metadata": {},
   "outputs": [],
   "source": [
    "# Test model\n",
    "text = \"Check out my new product and use the coupon code YOUTUBE10 for 10% off your purchase!\"\n",
    "sequence = tokenizer.texts_to_sequences([text])\n",
    "padded_sequence = pad_sequences(sequence, maxlen=max_len)\n",
    "prediction = model.predict(padded_sequence)\n",
    "if prediction[0][0] > 0.5:\n",
    "    coupon_code = text.split()[-1]\n",
    "    print(f\"Coupon code found: {coupon_code}\")\n",
    "else:\n",
    "    print(\"No coupon code found.\")"
   ]
  }
 ],
 "metadata": {
  "kernelspec": {
   "display_name": "Python 3 (ipykernel)",
   "language": "python",
   "name": "python3"
  },
  "language_info": {
   "codemirror_mode": {
    "name": "ipython",
    "version": 3
   },
   "file_extension": ".py",
   "mimetype": "text/x-python",
   "name": "python",
   "nbconvert_exporter": "python",
   "pygments_lexer": "ipython3",
   "version": "3.10.9"
  },
  "vscode": {
   "interpreter": {
    "hash": "c6d988bc6bf86e7f7d7ec18b2a2c1580c074248eaea7f2ae549444a14e578921"
   }
  }
 },
 "nbformat": 4,
 "nbformat_minor": 2
}
