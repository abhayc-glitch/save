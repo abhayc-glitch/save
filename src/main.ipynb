{
 "cells": [
  {
   "cell_type": "code",
   "execution_count": 6,
   "metadata": {},
   "outputs": [
    {
     "ename": "SyntaxError",
     "evalue": "invalid syntax (1284467461.py, line 12)",
     "output_type": "error",
     "traceback": [
      "\u001b[1;36m  Cell \u001b[1;32mIn[6], line 12\u001b[1;36m\u001b[0m\n\u001b[1;33m    import '../data/youtube.csv'\u001b[0m\n\u001b[1;37m           ^\u001b[0m\n\u001b[1;31mSyntaxError\u001b[0m\u001b[1;31m:\u001b[0m invalid syntax\n"
     ]
    }
   ],
   "source": [
    "import matplotlib.pyplot as plt\n",
    "import numpy as np\n",
    "import os\n",
    "import PIL\n",
    "import pandas as pd\n",
    "import tensorflow as tf\n",
    "\n",
    "from tensorflow.keras.preprocessing.text import text_to_word_sequence\n",
    "from tensorflow.keras.preprocessing.sequence import pad_sequences\n",
    "from tensorflow.keras.models import Sequential\n",
    "from tensorflow.keras.layers import Embedding, LSTM, Dense, Activation\n",
    "\n",
    "# import '../data/youtube.csv'\n",
    "\n",
    "print(tf.__version__)\n"
   ]
  },
  {
   "cell_type": "code",
   "execution_count": null,
   "metadata": {},
   "outputs": [],
   "source": [
    "# Pandas dataframe to open the the CSV file and get the Descriptions data\n",
    "# Load the data from the file\n",
    "df = pd.read_csv('youtube.csv')\n",
    "descriptions = df['description'] .tolist()"
   ]
  },
  {
   "cell_type": "code",
   "execution_count": null,
   "metadata": {},
   "outputs": [],
   "source": [
    "#Tokenization -> Text Vectorization (preprocessing layer that maps text feuatures to integer sequences)\n",
    "\n",
    "# Make the output integer data type\n",
    "#Max_tokens parameter is a parameter that sets the maximum number of tokens/unique words in the vocabulary after the model gets preprocessed\n",
    "# Setting it to vocab size means you lose no vocabuary\n",
    "text_processor = tf.keras.layers.TextVectorization(max_tokens=vocab_size, output_mode=int)\n",
    "text_processor.fit_on_texts(descriptions)\n",
    "\n",
    "#Transform applies the vectorization to the input data right before it gets passed through\n",
    "text_sequences = text_processor.transform(descriptions)"
   ]
  },
  {
   "cell_type": "code",
   "execution_count": null,
   "metadata": {},
   "outputs": [],
   "source": [
    "#Padding -> Adds 0's to the shorter sequences so all the input sequences stay the same\n",
    "# Framworks like tensorflow expect all inputs to be the same\n",
    "padded_sequences = pad_sequences(text_sequences, maxlen=max_sequence_length, padding='post')"
   ]
  },
  {
   "cell_type": "markdown",
   "metadata": {},
   "source": [
    "### RNN Architecture\n",
    "- "
   ]
  },
  {
   "cell_type": "code",
   "execution_count": null,
   "metadata": {},
   "outputs": [],
   "source": [
    "#Build the Model\n",
    "model = Sequential()"
   ]
  }
 ],
 "metadata": {
  "kernelspec": {
   "display_name": "Python 3 (ipykernel)",
   "language": "python",
   "name": "python3"
  },
  "language_info": {
   "codemirror_mode": {
    "name": "ipython",
    "version": 3
   },
   "file_extension": ".py",
   "mimetype": "text/x-python",
   "name": "python",
   "nbconvert_exporter": "python",
   "pygments_lexer": "ipython3",
   "version": "3.10.9"
  },
  "vscode": {
   "interpreter": {
    "hash": "c6d988bc6bf86e7f7d7ec18b2a2c1580c074248eaea7f2ae549444a14e578921"
   }
  }
 },
 "nbformat": 4,
 "nbformat_minor": 2
}
